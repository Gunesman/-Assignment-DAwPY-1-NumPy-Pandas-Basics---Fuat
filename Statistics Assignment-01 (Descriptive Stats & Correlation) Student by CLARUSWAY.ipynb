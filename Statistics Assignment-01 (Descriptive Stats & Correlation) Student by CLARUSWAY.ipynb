{
 "cells": [
  {
   "cell_type": "markdown",
   "metadata": {
    "deletable": false,
    "editable": false,
    "id": "80gh8Z2cV8O8"
   },
   "source": [
    "<a href=\"https://ondiande.com/contact/\"><img align=\"center\" src=\"https://i.ibb.co/B43qn24/officially-licensed-logo.png\" alt=\"ONDIA Contact\" width=\"110\" height=\"200\" title=\"This notebook is licensed by ONDIA. Please contact the authorized persons about the conditions under which you can use or share.\"></a>"
   ]
  },
  {
   "cell_type": "markdown",
   "metadata": {
    "id": "ABZc6u2UV8O_"
   },
   "source": [
    "<hr>\n",
    "\n",
    "<a href=\"https://lms.clarusway.com/mod/lesson/view.php?id=2463&pageid=4531&startlastseen=no\"><img align=\"center\" src=\"https://i.ibb.co/6Z5pQxD/lmss.png\" alt=\"Open in Clarusway LMS\" width=\"70\" height=\"200\" title=\"Open Clarusway Learning Management Sytem\"></a>\n",
    "\n",
    "<a href=\"https://github.com/clarusway/DS-DE-0322-Students/blob/main/3-%20Classes%26Labs/2-DAwPY/DAwPy_S01_(Numpy_Arrays).ipynb\"><img align=\"left\" src=\"https://i.ibb.co/n3HWyQX/github-logo.png\" alt=\"Open in Clarusway GitHub\" width=\"90\" height=\"150\" title=\"Open and Execute in Clarusway GitHub Repository\"></a>\n",
    "\n",
    "<a href=\"https://nbviewer.org/github/4dsolutions/clarusway_data_analysis/blob/main/DAwPy_S1_%28Numpy_Arrays%29/DAwPy_S1_%28Numpy_Arrays%29.ipynb\"><img align=\"right\" src=\"https://i.ibb.co/48wtV8c/nbviewer-badge.png\" alt=\"Open in nbviewer\" width=\"100\" height=\"100\" title=\"Open and Execute in nbviewer\"></a><br/>\n",
    "\n",
    "<hr>\n",
    "\n",
    "<p style=\"text-align: center;\"><img src=\"https://i.ibb.co/XS0bxSH/best-bootcamps.png\" width=\"300\" height=\"200\" class=\"img-fluid\" alt=\"Best Bootcamp Batches\"></p>\n",
    "\n",
    "<br>\n",
    "\n",
    "<p style=\"text-align: center;\"><img src=\"https://i.ibb.co/Rpz9L36/clarusway-logo-black.png\" width=\"500\" height=\"200\" class=\"img-fluid\" alt=\"CLRSWY_LOGO\"></p>\n",
    "\n",
    "\n",
    "<p style=\"background-color:#E51A59; font-family:newtimeroman; color:#FDFEFE; font-size:130%; text-align:center; border-radius:10px 10px;\">WAY TO REINVENT YOURSELF</p>\n",
    "\n",
    "<br>\n",
    "\n",
    "<img src=https://i.ibb.co/HgnTPh9/stats.png width=\"500\" height=\"200\">\n",
    "\n",
    "\n",
    "![Image_Assignment](https://i.ibb.co/cY9HhF7/bnote-assignment.gif)\n",
    "\n",
    "## <p style=\"background-color:#FDFEFE; font-family:newtimeroman; color:#4d77cf; font-size:175%; text-align:center; border-radius:10px 10px;\">Assignment 01 (Descriptive Statistics & Correlation)</p>"
   ]
  },
  {
   "cell_type": "markdown",
   "metadata": {
    "id": "K7S4cEyZLTp7"
   },
   "source": [
    "## <p style=\"background-color:#58B8E4; font-family:newtimeroman; color:#FFF9ED; font-size:175%; text-align:center; border-radius:10px 10px;\">Descriptive Statistics</p>"
   ]
  },
  {
   "cell_type": "markdown",
   "metadata": {
    "id": "vZRYVyc8H7hi"
   },
   "source": [
    " ### <span style=\"color:#49519E\">1. Import NumPy, SciPy, and Pandas Libraries.<span>"
   ]
  },
  {
   "cell_type": "code",
   "execution_count": 1,
   "metadata": {
    "id": "HAd1lZNGV8PC"
   },
   "outputs": [
    {
     "name": "stdout",
     "output_type": "stream",
     "text": [
      "Libraries have been successfully loaded!\n"
     ]
    }
   ],
   "source": [
    "# 1. Import NumPy, SciPy, and Pandas Libraries\n",
    "import numpy as np  # NumPy for numerical operations\n",
    "import pandas as pd  # Pandas for data analysis and manipulation\n",
    "from scipy import stats  # SciPy for statistical operations\n",
    "\n",
    "# Confirmation of successful import\n",
    "print(\"Libraries have been successfully loaded!\")"
   ]
  },
  {
   "cell_type": "markdown",
   "metadata": {
    "id": "_SaQURIqIA6d"
   },
   "source": [
    "### <span style=\"color:#49519E\">2. Randomly generate 1,000 samples from the normal distribution using `np.random.normal()`(mean=100, standard deviation=15).<span>\n",
    "    \n",
    "#### <span style=\"color:#49519E\">Tip: Use `random.seed()` method from Numpy library to generate the same numbers across multiple runs.<span>   "
   ]
  },
  {
   "cell_type": "code",
   "execution_count": 2,
   "metadata": {
    "id": "v_2bnojEV8PE"
   },
   "outputs": [
    {
     "name": "stdout",
     "output_type": "stream",
     "text": [
      "First 10 samples: [107.4507123   97.92603548 109.71532807 122.84544785  96.48769938\n",
      "  96.48794565 123.68819223 111.51152094  92.95788421 108.13840065]\n"
     ]
    }
   ],
   "source": [
    "# 2. Randomly generate 1,000 samples from the normal distribution\n",
    "np.random.seed(42)  # Ensures reproducibility\n",
    "samples = np.random.normal(loc=100, scale=15, size=1000)\n",
    "print(\"First 10 samples:\", samples[:10])"
   ]
  },
  {
   "cell_type": "markdown",
   "metadata": {
    "id": "CDF8m3a4IYOC"
   },
   "source": [
    "  ### <span style=\"color:#49519E\">3. Calculate the mean, median, and mode.<span>"
   ]
  },
  {
   "cell_type": "code",
   "execution_count": 3,
   "metadata": {
    "id": "UcF8-bY_V8PE"
   },
   "outputs": [
    {
     "name": "stdout",
     "output_type": "stream",
     "text": [
      "Mean: 100.28998083733488\n",
      "Median: 100.37950918352333\n",
      "Mode: 51.38098989896391 (Frequency: 1)\n"
     ]
    }
   ],
   "source": [
    "# 3. Calculate the mean, median, and mode\n",
    "mean_value = np.mean(samples)\n",
    "median_value = np.median(samples)\n",
    "mode_value = stats.mode(samples, keepdims=True)  \n",
    "mode_result = mode_value.mode[0]\n",
    "mode_frequency = mode_value.count[0]\n",
    "print(f\"Mean: {mean_value}\")\n",
    "print(f\"Median: {median_value}\")\n",
    "print(f\"Mode: {mode_result} (Frequency: {mode_frequency})\")"
   ]
  },
  {
   "cell_type": "markdown",
   "metadata": {
    "id": "skT8m39XI60w"
   },
   "source": [
    "  ### <span style=\"color:#49519E\">4. Calculate the min, max, Q1, Q3, and interquartile range.<span>"
   ]
  },
  {
   "cell_type": "code",
   "execution_count": 7,
   "metadata": {
    "id": "kYpqd0W-V8PF"
   },
   "outputs": [
    {
     "name": "stdout",
     "output_type": "stream",
     "text": [
      "Min: 51.38098989896391, Max: 157.7909723598208, Q1: 90.28614541806472, Q3: 109.71915813209395, IQR: 19.433012714029232\n"
     ]
    }
   ],
   "source": [
    "# 4. Calculate the min, max, Q1, Q3, and interquartile range\n",
    "min_value = np.min(samples)\n",
    "max_value = np.max(samples)\n",
    "q1 = np.percentile(samples, 25)\n",
    "q3 = np.percentile(samples, 75)\n",
    "iqr = q3 - q1\n",
    "print(f\"Min: {min_value}, Max: {max_value}, Q1: {q1}, Q3: {q3}, IQR: {iqr}\")\n"
   ]
  },
  {
   "cell_type": "markdown",
   "metadata": {
    "id": "m53Dv3n5JHQi"
   },
   "source": [
    "  ### <span style=\"color:#49519E\">5. Calculate the variance and standard deviation.<span>"
   ]
  },
  {
   "cell_type": "code",
   "execution_count": 8,
   "metadata": {
    "id": "PJNWGb1ZV8PF"
   },
   "outputs": [
    {
     "name": "stdout",
     "output_type": "stream",
     "text": [
      "Variance: 215.52862268959137\n",
      "Standard Deviation: 14.680893116210314\n"
     ]
    }
   ],
   "source": [
    "# 5. Calculate the variance and standard deviation\n",
    "variance = np.var(samples)\n",
    "std_deviation = np.std(samples)\n",
    "print(f\"Variance: {variance}\")\n",
    "print(f\"Standard Deviation: {std_deviation}\")"
   ]
  },
  {
   "cell_type": "markdown",
   "metadata": {
    "id": "5eup4hI1JzqX"
   },
   "source": [
    "  ### <span style=\"color:#49519E\">6. Calculate the skewness and kurtosis.<span>"
   ]
  },
  {
   "cell_type": "code",
   "execution_count": 9,
   "metadata": {
    "id": "1oM_Dxg4V8PG"
   },
   "outputs": [
    {
     "name": "stdout",
     "output_type": "stream",
     "text": [
      "Skewness: 0.11680083110533536\n",
      "Kurtosis: 0.06620589292148438\n"
     ]
    }
   ],
   "source": [
    "# 6. Calculate the skewness and kurtosis\n",
    "skewness = stats.skew(samples)\n",
    "kurtosis = stats.kurtosis(samples)\n",
    "print(f\"Skewness: {skewness}\")\n",
    "print(f\"Kurtosis: {kurtosis}\")"
   ]
  },
  {
   "cell_type": "markdown",
   "metadata": {
    "id": "a5UNc8PUKnbU"
   },
   "source": [
    "## <p style=\"background-color:#58B8E4; font-family:newtimeroman; color:#FFF9ED; font-size:175%; text-align:center; border-radius:10px 10px;\">Correlation Calculation in NumPy</p>"
   ]
  },
  {
   "cell_type": "markdown",
   "metadata": {
    "id": "cLiqxE1CMNTg"
   },
   "source": [
    "### <span style=\"color:#49519E\">7. Create an array `x` of integers between 10 (inclusive) and 20 (exclusive). Use `np.arange()`.<span>"
   ]
  },
  {
   "cell_type": "code",
   "execution_count": 12,
   "metadata": {
    "id": "-Z6R-HLSV8PG"
   },
   "outputs": [
    {
     "name": "stdout",
     "output_type": "stream",
     "text": [
      "Array x: [10 11 12 13 14 15 16 17 18 19]\n"
     ]
    }
   ],
   "source": [
    "# 7. Create an array x of integers between 10 (inclusive) and 20 (exclusive)\n",
    "x = np.arange(10, 20)\n",
    "\n",
    "print(\"Array x:\", x)"
   ]
  },
  {
   "cell_type": "markdown",
   "metadata": {
    "id": "qyCIaukNMZPf"
   },
   "source": [
    "### <span style=\"color:#49519E\">8. Then use `np.array()` to create a second array `y` containing 10 arbitrary integers.<span>"
   ]
  },
  {
   "cell_type": "code",
   "execution_count": 21,
   "metadata": {
    "id": "ddpswSvqV8PH"
   },
   "outputs": [
    {
     "name": "stdout",
     "output_type": "stream",
     "text": [
      "Array 'y' with 10 random integers in the range [10, 20): [12 15 10 16 10 14 19 17 13 14]\n"
     ]
    }
   ],
   "source": [
    "# Create an array 'y' with 10 random integers in the range [10, 20)\n",
    "y = np.array([np.random.randint(10, 20) for _ in range(10)])  \n",
    "\n",
    "# Print the generated array\n",
    "print(\"Array 'y' with 10 random integers in the range [10, 20):\", y)"
   ]
  },
  {
   "cell_type": "markdown",
   "metadata": {
    "id": "Kh_VeKwINSqS"
   },
   "source": [
    "### <span style=\"color:#49519E\">9. Calculate the correlation coefficient between `x` and `y`.<span>"
   ]
  },
  {
   "cell_type": "code",
   "execution_count": 22,
   "metadata": {
    "id": "tmNOTfQ6V8PH"
   },
   "outputs": [
    {
     "name": "stdout",
     "output_type": "stream",
     "text": [
      "The correlation coefficient between x and y: 0.32835193318376904\n"
     ]
    }
   ],
   "source": [
    "# 9. Calculate the correlation coefficient between x and y\n",
    "correlation_coefficient = np.corrcoef(x, y)[0, 1]\n",
    "\n",
    "# Print the correlation coefficient\n",
    "print(f\"The correlation coefficient between x and y: {correlation_coefficient}\")\n"
   ]
  },
  {
   "cell_type": "markdown",
   "metadata": {
    "id": "vXieLjYiNtPi"
   },
   "source": [
    "## <p style=\"background-color:#58B8E4; font-family:newtimeroman; color:#FFF9ED; font-size:175%; text-align:center; border-radius:10px 10px;\">Correlation Calculation in Pandas</p>"
   ]
  },
  {
   "cell_type": "markdown",
   "metadata": {
    "id": "z56t0k0qNvkr"
   },
   "source": [
    "### <span style=\"color:#49519E\">10. Run the code below.<span>"
   ]
  },
  {
   "cell_type": "code",
   "execution_count": 26,
   "metadata": {
    "id": "9AVBMJCyNuwb"
   },
   "outputs": [
    {
     "name": "stdout",
     "output_type": "stream",
     "text": [
      "x array:\n",
      " 0    10\n",
      "1    11\n",
      "2    12\n",
      "3    13\n",
      "4    14\n",
      "5    15\n",
      "6    16\n",
      "7    17\n",
      "8    18\n",
      "9    19\n",
      "dtype: int64\n",
      "y array:\n",
      " 0     2\n",
      "1     1\n",
      "2     4\n",
      "3     5\n",
      "4     8\n",
      "5    12\n",
      "6    18\n",
      "7    25\n",
      "8    96\n",
      "9    48\n",
      "dtype: int64\n"
     ]
    }
   ],
   "source": [
    "x = pd.Series(range(10, 20))\n",
    "y = pd.Series([2, 1, 4, 5, 8, 12, 18, 25, 96, 48])\n",
    "\n",
    "print(\"x array:\\n\", x)\n",
    "print(\"y array:\\n\", y)"
   ]
  },
  {
   "cell_type": "markdown",
   "metadata": {
    "id": "ZajVXYe2OCih"
   },
   "source": [
    "### <span style=\"color:#49519E\">11. Calculate the `Pearson's r` correlation.<span>"
   ]
  },
  {
   "cell_type": "code",
   "execution_count": 24,
   "metadata": {
    "id": "5LLoMqxHV8PI"
   },
   "outputs": [
    {
     "name": "stdout",
     "output_type": "stream",
     "text": [
      "Pearson's r correlation (Pandas): 0.7586402890911867\n"
     ]
    }
   ],
   "source": [
    "# 11. Calculate the Pearson's r correlation\n",
    "pearson_corr = x.corr(y, method='pearson')\n",
    "print(f\"Pearson's r correlation (Pandas): {pearson_corr}\")"
   ]
  },
  {
   "cell_type": "markdown",
   "metadata": {
    "id": "1CygSbnROb9V"
   },
   "source": [
    "### <span style=\"color:#49519E\">12. OPTIONAL. Calculate the relevant method to calculate `Spearman's rho` correlation.<span>"
   ]
  },
  {
   "cell_type": "code",
   "execution_count": 27,
   "metadata": {
    "id": "N3LM48XiV8PI"
   },
   "outputs": [
    {
     "name": "stdout",
     "output_type": "stream",
     "text": [
      "Spearman's rho correlation: 0.9757575757575757\n"
     ]
    }
   ],
   "source": [
    "# 12. Calculate Spearman's rho correlation (Optional)\n",
    "spearman_corr = x.corr(y, method='spearman')\n",
    "print(f\"Spearman's rho correlation: {spearman_corr}\")"
   ]
  },
  {
   "cell_type": "markdown",
   "metadata": {
    "id": "we7pg7kdOo7y"
   },
   "source": [
    "## <p style=\"background-color:#58B8E4; font-family:newtimeroman; color:#FFF9ED; font-size:175%; text-align:center; border-radius:10px 10px;\">Study wit Seaborn Dataset-Tips</p>"
   ]
  },
  {
   "cell_type": "markdown",
   "metadata": {
    "id": "VlzgFKN7OvqX"
   },
   "source": [
    "### <span style=\"color:#49519E\">13. Import Seaborn Library as `sns`.<span>"
   ]
  },
  {
   "cell_type": "code",
   "execution_count": 30,
   "metadata": {
    "id": "wasaVyngV8PJ"
   },
   "outputs": [],
   "source": [
    "# Import Seaborn Library as sns\n",
    "import seaborn as sns"
   ]
  },
  {
   "cell_type": "markdown",
   "metadata": {
    "id": "0INVBB4tO4y4"
   },
   "source": [
    "### <span style=\"color:#49519E\">14. Load `tips` dataset from Seaborn Library.<span>"
   ]
  },
  {
   "cell_type": "code",
   "execution_count": 31,
   "metadata": {
    "id": "ovWS6zyFV8PJ"
   },
   "outputs": [
    {
     "name": "stdout",
     "output_type": "stream",
     "text": [
      "   total_bill   tip     sex smoker  day    time  size\n",
      "0       16.99  1.01  Female     No  Sun  Dinner     2\n",
      "1       10.34  1.66    Male     No  Sun  Dinner     3\n",
      "2       21.01  3.50    Male     No  Sun  Dinner     3\n",
      "3       23.68  3.31    Male     No  Sun  Dinner     2\n",
      "4       24.59  3.61  Female     No  Sun  Dinner     4\n"
     ]
    }
   ],
   "source": [
    "# Load tips dataset from Seaborn Library\n",
    "tips = sns.load_dataset('tips')\n",
    "\n",
    "print(tips.head())"
   ]
  },
  {
   "cell_type": "markdown",
   "metadata": {
    "id": "o2ISqVQrPh5S"
   },
   "source": [
    "### <span style=\"color:#49519E\">15. Generate Descriptive Statistics including those that summarize the central tendency, dispersion.<span>"
   ]
  },
  {
   "cell_type": "code",
   "execution_count": 32,
   "metadata": {
    "id": "iSqxD_K_V8PK"
   },
   "outputs": [
    {
     "name": "stdout",
     "output_type": "stream",
     "text": [
      "Descriptive Statistics:\n",
      "        total_bill         tip        size\n",
      "count  244.000000  244.000000  244.000000\n",
      "mean    19.785943    2.998279    2.569672\n",
      "std      8.902412    1.383638    0.951100\n",
      "min      3.070000    1.000000    1.000000\n",
      "25%     13.347500    2.000000    2.000000\n",
      "50%     17.795000    2.900000    2.000000\n",
      "75%     24.127500    3.562500    3.000000\n",
      "max     50.810000   10.000000    6.000000\n"
     ]
    }
   ],
   "source": [
    "# Generate Descriptive Statistics including central tendency and dispersion\n",
    "desc_stats = tips.describe()\n",
    "print(\"Descriptive Statistics:\\n\", desc_stats)"
   ]
  },
  {
   "cell_type": "markdown",
   "metadata": {
    "id": "3yCRK4VJPzRo"
   },
   "source": [
    "### <span style=\"color:#49519E\">16. Calculate `Pairwise Pearson's r` correlation of columns.<span>"
   ]
  },
  {
   "cell_type": "code",
   "execution_count": 35,
   "metadata": {
    "id": "YKAoR2QRV8PK"
   },
   "outputs": [
    {
     "name": "stdout",
     "output_type": "stream",
     "text": [
      "Pairwise Pearson's r correlation (Numeric Columns Only):\n",
      "             total_bill       tip      size\n",
      "total_bill    1.000000  0.675734  0.598315\n",
      "tip           0.675734  1.000000  0.489299\n",
      "size          0.598315  0.489299  1.000000\n"
     ]
    }
   ],
   "source": [
    "# Calculate Pairwise Pearson's r correlation of numeric columns only\n",
    "pairwise_corr_numeric = tips.select_dtypes(include=['number']).corr()\n",
    "print(\"Pairwise Pearson's r correlation (Numeric Columns Only):\\n\", pairwise_corr_numeric)"
   ]
  },
  {
   "cell_type": "markdown",
   "metadata": {
    "id": "CbTcJThZV8PK"
   },
   "source": [
    "### <span style=\"color:#49519E\">17. Visualize mutual relationships of features by `pairplot'.<span>"
   ]
  },
  {
   "cell_type": "code",
   "execution_count": 36,
   "metadata": {
    "id": "vzhEk_9JV8PR"
   },
   "outputs": [
    {
     "data": {
      "text/plain": [
       "<seaborn.axisgrid.PairGrid at 0x1b88e1c8250>"
      ]
     },
     "execution_count": 36,
     "metadata": {},
     "output_type": "execute_result"
    },
    {
     "data": {
      "image/png": "[encoded data removed]",
      "text/plain": [
       "<Figure size 750x750 with 12 Axes>"
      ]
     },
     "metadata": {},
     "output_type": "display_data"
    }
   ],
   "source": [
    "# Visualize mutual relationships of features by `pairplot`\n",
    "sns.pairplot(tips)"
   ]
  },
  {
   "cell_type": "markdown",
   "metadata": {
    "id": "g1fpZx0rV8PR"
   },
   "source": [
    "## <p style=\"background-color:#8CCED1; font-family:newtimeroman; color:#49519E; font-size:150%; text-align:center; border-radius:10px 10px;\">END OF THE ASSIGNMENT-01</p>\n",
    "\n",
    "# Now. it's time to relax!\n",
    "\n",
    "<p style=\"text-align: center;\"> <img src=\"https://i.ibb.co/qRXLyxs/blur-book-close-up-coffee-459265-scaled-e1596132095495.jpg\" width=\"800\" height=\"200\"\n",
    "\n",
    "[Image Credit](https://www.tuscany-villas.nl/in-toscane/2021/eten-en-wijn/accademia-del-caffe-espresso)\n",
    "\n",
    "<p style=\"text-align: center;\"><img src=\"https://i.ibb.co/99DQ3TY/DS-Courses.png\" class=\"img-fluid\"\n",
    "alt=\"CLRSWY_Courses\"></p>"
   ]
  },
  {
   "cell_type": "markdown",
   "metadata": {
    "deletable": false,
    "editable": false,
    "id": "pjcelkFqV8PR"
   },
   "source": [
    "<a href=\"https://ondiande.com/contact/\"><img align=\"center\" src=\"https://i.ibb.co/B43qn24/officially-licensed-logo.png\" alt=\"ONDIA Contact\" width=\"110\" height=\"200\" title=\"This notebook is licensed by ONDIA. Please contact the authorized persons about the conditions under which you can use or share.\"></a>"
   ]
  }
 ],
 "metadata": {
  "colab": {
   "provenance": [
    {
     "file_id": "1F8Ul2u7h9i9IQx5FDqVHJRsk6YPoOPBb",
     "timestamp": 1673022924234
    },
    {
     "file_id": "11XAqQ0T6shqmXGPZRiiUt8MIQEjvcH5T",
     "timestamp": 1642515419901
    }
   ]
  },
  "kernelspec": {
   "display_name": "Python 3 (ipykernel)",
   "language": "python",
   "name": "python3"
  },
  "language_info": {
   "codemirror_mode": {
    "name": "ipython",
    "version": 3
   },
   "file_extension": ".py",
   "mimetype": "text/x-python",
   "name": "python",
   "nbconvert_exporter": "python",
   "pygments_lexer": "ipython3",
   "version": "3.11.10"
  },
  "toc": {
   "base_numbering": "",
   "nav_menu": {},
   "number_sections": false,
   "sideBar": true,
   "skip_h1_title": false,
   "title_cell": "Table of Contents",
   "title_sidebar": "Contents",
   "toc_cell": false,
   "toc_position": {
    "height": "calc(100% - 180px)",
    "left": "10px",
    "top": "150px",
    "width": "307.2px"
   },
   "toc_section_display": true,
   "toc_window_display": true
  },
  "varInspector": {
   "cols": {
    "lenName": 16,
    "lenType": 16,
    "lenVar": 40
   },
   "kernels_config": {
    "python": {
     "delete_cmd_postfix": "",
     "delete_cmd_prefix": "del ",
     "library": "var_list.py",
     "varRefreshCmd": "print(var_dic_list())"
    },
    "r": {
     "delete_cmd_postfix": ") ",
     "delete_cmd_prefix": "rm(",
     "library": "var_list.r",
     "varRefreshCmd": "cat(var_dic_list()) "
    }
   },
   "types_to_exclude": [
    "module",
    "function",
    "builtin_function_or_method",
    "instance",
    "_Feature"
   ],
   "window_display": false
  }
 },
 "nbformat": 4,
 "nbformat_minor": 1
}
