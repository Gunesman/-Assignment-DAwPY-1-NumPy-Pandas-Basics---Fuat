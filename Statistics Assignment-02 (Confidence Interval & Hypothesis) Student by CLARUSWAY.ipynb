{
 "cells": [
  {
   "cell_type": "markdown",
   "id": "4e4ca998",
   "metadata": {
    "deletable": false,
    "editable": false
   },
   "source": [
    "<a href=\"https://ondiande.com/contact/\"><img align=\"center\" src=\"https://i.ibb.co/B43qn24/officially-licensed-logo.png\" alt=\"ONDIA Contact\" width=\"110\" height=\"200\" title=\"This notebook is licensed by ONDIA. Please contact the authorized persons about the conditions under which you can use or share.\"></a>"
   ]
  },
  {
   "cell_type": "markdown",
   "id": "07430f9e",
   "metadata": {},
   "source": [
    "<hr>\n",
    "\n",
    "<a href=\"https://lms.clarusway.com/mod/lesson/view.php?id=2463&pageid=4531&startlastseen=no\"><img align=\"center\" src=\"https://i.ibb.co/6Z5pQxD/lmss.png\" alt=\"Open in Clarusway LMS\" width=\"70\" height=\"200\" title=\"Open Clarusway Learning Management Sytem\"></a>\n",
    "\n",
    "<a href=\"https://github.com/clarusway/DS-DE-0322-Students/blob/main/3-%20Classes%26Labs/2-DAwPY/DAwPy_S01_(Numpy_Arrays).ipynb\"><img align=\"left\" src=\"https://i.ibb.co/n3HWyQX/github-logo.png\" alt=\"Open in Clarusway GitHub\" width=\"90\" height=\"150\" title=\"Open and Execute in Clarusway GitHub Repository\"></a>\n",
    "\n",
    "<a href=\"https://nbviewer.org/github/4dsolutions/clarusway_data_analysis/blob/main/DAwPy_S1_%28Numpy_Arrays%29/DAwPy_S1_%28Numpy_Arrays%29.ipynb\"><img align=\"right\" src=\"https://i.ibb.co/48wtV8c/nbviewer-badge.png\" alt=\"Open in nbviewer\" width=\"100\" height=\"100\" title=\"Open and Execute in nbviewer\"></a><br/>\n",
    "\n",
    "<hr>\n",
    "\n",
    "<p style=\"text-align: center;\"><img src=\"https://i.ibb.co/XS0bxSH/best-bootcamps.png\" width=\"300\" height=\"200\" class=\"img-fluid\" alt=\"Best Bootcamp Batches\"></p>\n",
    "\n",
    "<br>\n",
    "\n",
    "<p style=\"text-align: center;\"><img src=\"https://i.ibb.co/Rpz9L36/clarusway-logo-black.png\" width=\"500\" height=\"200\" class=\"img-fluid\" alt=\"CLRSWY_LOGO\"></p>\n",
    "\n",
    "\n",
    "<p style=\"background-color:#E51A59; font-family:newtimeroman; color:#FDFEFE; font-size:130%; text-align:center; border-radius:10px 10px;\">WAY TO REINVENT YOURSELF</p>\n",
    "\n",
    "<br>\n",
    "\n",
    "<img src=https://i.ibb.co/HgnTPh9/stats.png width=\"500\" height=\"200\">\n",
    "\n",
    "\n",
    "![Image_Assignment](https://i.ibb.co/cY9HhF7/bnote-assignment.gif)\n",
    "\n",
    "\n",
    "## <p style=\"background-color:#FDFEFE; font-family:newtimeroman; color:#4d77cf; font-size:175%; text-align:center; border-radius:10px 10px;\">Assignment 02 (Confidence Interval & Hypothesis)</p>"
   ]
  },
  {
   "cell_type": "markdown",
   "id": "9d47fbc6",
   "metadata": {},
   "source": [
    " ### <span style=\"color:#49519E\">1. Import NumPy, SciPy, Pandas, Matplolib, and Seaborn Libraries.<span>"
   ]
  },
  {
   "cell_type": "code",
   "execution_count": 1,
   "id": "bb8aa1ed",
   "metadata": {
    "executionInfo": {
     "elapsed": 2574,
     "status": "ok",
     "timestamp": 1712303184473,
     "user": {
      "displayName": "Richard Thames",
      "userId": "00258987493291873022"
     },
     "user_tz": -180
    },
    "id": "bb8aa1ed"
   },
   "outputs": [],
   "source": [
    "import numpy as np\n",
    "from scipy import stats\n",
    "import seaborn as sns\n",
    "import pandas as pd\n",
    "import matplotlib.pyplot as plt\n",
    "\n",
    "import warnings\n",
    "warnings.filterwarnings('ignore')"
   ]
  },
  {
   "cell_type": "markdown",
   "id": "7f39c5eb",
   "metadata": {},
   "source": [
    "## <p style=\"background-color:#FDFEFE; font-family:newtimeroman; color:#4d77cf; font-size:175%; text-align:center; border-radius:10px 10px;\">Confidence Interval</p>"
   ]
  },
  {
   "cell_type": "markdown",
   "id": "ee936c84",
   "metadata": {
    "id": "ee936c84"
   },
   "source": [
    "## <p style=\"background-color:#58B8E4; font-family:newtimeroman; color:#49519E; font-size:150%; text-align:left; border-radius:10px 10px;\"> EXERCISE-1:</p>\n",
    "\n",
    "+ What is the normal body temperature for healthy humans? A random sample of\n",
    "130 healthy human body temperatures provided by Allen Shoemaker yielded 98.25 degrees and standard deviation 0.73 degrees.\n",
    "\n",
    "- Give a 99% confidence interval for the average body temperature of healthy people."
   ]
  },
  {
   "cell_type": "markdown",
   "id": "1047a05c",
   "metadata": {},
   "source": [
    "#### <p style=\"background-color:#8CCED1; font-family:newtimeroman; color:#635EA7; font-size:175%; text-align:left; border-radius:10px 10px;\">First write the given variables:</p>"
   ]
  },
  {
   "cell_type": "code",
   "execution_count": 2,
   "id": "0bc73a7d",
   "metadata": {},
   "outputs": [],
   "source": [
    "x_bar = 98.25       \n",
    "sigma = 0.73       \n",
    "n = 130          \n",
    "alpha = 0.01       \n",
    "z_star = 2.576   "
   ]
  },
  {
   "cell_type": "markdown",
   "id": "d0a618d8",
   "metadata": {},
   "source": [
    "#### <p style=\"background-color:#8CCED1; font-family:newtimeroman; color:#635EA7; font-size:175%; text-align:left; border-radius:10px 10px;\">Second calculate te standard error of te mean (SEM):</p>"
   ]
  },
  {
   "cell_type": "code",
   "execution_count": 3,
   "id": "9228112a",
   "metadata": {},
   "outputs": [
    {
     "data": {
      "text/plain": [
       "0.06402523540941313"
      ]
     },
     "execution_count": 3,
     "metadata": {},
     "output_type": "execute_result"
    }
   ],
   "source": [
    "sem = sigma/ np.sqrt(n)\n",
    "sem"
   ]
  },
  {
   "cell_type": "markdown",
   "id": "6cfaf3df",
   "metadata": {},
   "source": [
    "#### <p style=\"background-color:#8CCED1; font-family:newtimeroman; color:#635EA7; font-size:175%; text-align:left; border-radius:10px 10px;\">Third calculate the interval at the given confidence level:</p>"
   ]
  },
  {
   "cell_type": "code",
   "execution_count": 4,
   "id": "73b4be48",
   "metadata": {},
   "outputs": [
    {
     "name": "stdout",
     "output_type": "stream",
     "text": [
      "Confidence Level (CI): ( 98.08507099358535 , 98.41492900641465 )\n",
      "Confidence Interval: (98.09 °F, 98.41 °F)\n"
     ]
    }
   ],
   "source": [
    "# Standard Error\n",
    "se = sigma / np.sqrt(n)\n",
    "\n",
    "# Margin of Error, ME\n",
    "margin_of_error = z_star * se\n",
    "\n",
    "lower_limit = x_bar - margin_of_error\n",
    "upper_limit = x_bar + margin_of_error\n",
    "\n",
    "print(\"Confidence Level (CI): (\", lower_limit, \",\", upper_limit, \")\")\n",
    "# Printing the confidence interval\n",
    "print(f\"Confidence Interval: ({lower_limit:.2f} °F, {upper_limit:.2f} °F)\")"
   ]
  },
  {
   "cell_type": "markdown",
   "id": "57fa7537",
   "metadata": {},
   "source": [
    "#### <p style=\"background-color:#8CCED1; font-family:newtimeroman; color:#635EA7; font-size:175%; text-align:left; border-radius:10px 10px;\">Last make a decision:</p>"
   ]
  },
  {
   "cell_type": "code",
   "execution_count": 5,
   "id": "1cc7da6e",
   "metadata": {},
   "outputs": [],
   "source": [
    "# Function to print hypotheses for a given mean value\n",
    "def print_hypotheses(mean_value):\n",
    "    # Print the title for hypotheses\n",
    "    print(\"Hypotheses:\")\n",
    "    # Print the null hypothesis (H₀) with the provided mean value\n",
    "    print(f\"H₀: The mean body temperature for healthy individuals is {mean_value}°F (μ = {mean_value}).\")\n",
    "    # Print the alternative hypothesis (Hₐ) indicating it differs from the mean value\n",
    "    print(f\"Hₐ: The mean body temperature for healthy individuals is not {mean_value}°F (μ ≠ {mean_value}).\")"
   ]
  },
  {
   "cell_type": "code",
   "execution_count": 6,
   "id": "cfcbaac4",
   "metadata": {},
   "outputs": [
    {
     "name": "stdout",
     "output_type": "stream",
     "text": [
      "Hypotheses:\n",
      "H₀: The mean body temperature for healthy individuals is 98.25°F (μ = 98.25).\n",
      "Hₐ: The mean body temperature for healthy individuals is not 98.25°F (μ ≠ 98.25).\n",
      "\n",
      "Decision:\n",
      "Fail to reject H₀: There is no significant difference; the mean body temperature may be 98.25°F.\n"
     ]
    }
   ],
   "source": [
    "# Confidence interval and hypothesized value\n",
    "lower_limit = 98.09  \n",
    "upper_limit = 98.41  \n",
    "hypothesized_value = 98.25  \n",
    "\n",
    "# Function for decision-making based on the confidence interval\n",
    "def make_decision(lower, upper, value):\n",
    "    if value < lower or value > upper:\n",
    "        decision = f\"Reject H₀: The mean body temperature is significantly different from {value}°F.\"\n",
    "    else:\n",
    "        decision = f\"Fail to reject H₀: There is no significant difference; the mean body temperature may be {value}°F.\"\n",
    "    return decision\n",
    "\n",
    "# Print hypotheses for the hypothesized value\n",
    "print_hypotheses(hypothesized_value)\n",
    "\n",
    "# Make the decision and print it\n",
    "decision = make_decision(lower_limit, upper_limit, hypothesized_value)\n",
    "print(\"\\nDecision:\")\n",
    "print(decision)\n"
   ]
  },
  {
   "cell_type": "markdown",
   "id": "35b9c33e",
   "metadata": {
    "id": "35b9c33e"
   },
   "source": [
    "## <p style=\"background-color:#58B8E4; font-family:newtimeroman; color:#49519E; font-size:150%; text-align:left; border-radius:10px 10px;\"> EXERCISE-2:</p>\n",
    "\n",
    "+ The administrators for a hospital wished to estimate the average number of days required for inpatient treatment of patients between the ages of 25 and 34. A random sample of 500 hospital patients between these ages produced a mean and standard deviation equal to 5.4 and 3.1 days, respectively.\n",
    "\n",
    "\n",
    "+ Construct a 95% confidence interval for the mean length of stay for the population of patients from which the sample was drawn.\n",
    "\n"
   ]
  },
  {
   "cell_type": "markdown",
   "id": "4fb3160b",
   "metadata": {},
   "source": [
    "#### <p style=\"background-color:#8CCED1; font-family:newtimeroman; color:#635EA7; font-size:175%; text-align:left; border-radius:10px 10px;\">First write the given variables:</p>"
   ]
  },
  {
   "cell_type": "code",
   "execution_count": 7,
   "id": "329ed20e",
   "metadata": {},
   "outputs": [],
   "source": [
    "# Given data\n",
    "x_bar = 5.4  # Sample mean\n",
    "sigma = 3.1  # Standard deviation\n",
    "n = 500      # Sample size\n",
    "alpha = 0.05 # Significance level (for 95% confidence level)\n",
    "z_star = 1.96  # Z-score for 95% confidence"
   ]
  },
  {
   "cell_type": "markdown",
   "id": "ce57f16b",
   "metadata": {},
   "source": [
    "#### <p style=\"background-color:#8CCED1; font-family:newtimeroman; color:#635EA7; font-size:175%; text-align:left; border-radius:10px 10px;\">Second calculate te standard error of te mean (SEM):</p>"
   ]
  },
  {
   "cell_type": "code",
   "execution_count": 8,
   "id": "c4cdc9d2",
   "metadata": {},
   "outputs": [
    {
     "name": "stdout",
     "output_type": "stream",
     "text": [
      "Standard Error (SEM): 0.1386\n"
     ]
    }
   ],
   "source": [
    "# Calculate the standard error of the mean (SEM)\n",
    "sem = sigma / np.sqrt(n)\n",
    "print(f\"Standard Error (SEM): {sem:.4f}\")"
   ]
  },
  {
   "cell_type": "markdown",
   "id": "49665886",
   "metadata": {},
   "source": [
    "#### <p style=\"background-color:#8CCED1; font-family:newtimeroman; color:#635EA7; font-size:175%; text-align:left; border-radius:10px 10px;\">Third calculate the interval at the given confidence level:</p>"
   ]
  },
  {
   "cell_type": "code",
   "execution_count": 9,
   "id": "21f95f55",
   "metadata": {},
   "outputs": [
    {
     "name": "stdout",
     "output_type": "stream",
     "text": [
      "95% Confidence Interval: Between 5.13 days and 5.67 days.\n"
     ]
    }
   ],
   "source": [
    "# Calculate the margin of error (ME)\n",
    "margin_of_error = z_star * sem\n",
    "\n",
    "# Calculate the confidence interval\n",
    "lower_limit = x_bar - margin_of_error\n",
    "upper_limit = x_bar + margin_of_error\n",
    "\n",
    "# Print the confidence interval\n",
    "print(f\"95% Confidence Interval: Between {lower_limit:.2f} days and {upper_limit:.2f} days.\")"
   ]
  },
  {
   "cell_type": "markdown",
   "id": "7f151f1b",
   "metadata": {},
   "source": [
    "#### <p style=\"background-color:#8CCED1; font-family:newtimeroman; color:#635EA7; font-size:175%; text-align:left; border-radius:10px 10px;\">Last make a decision:</p>"
   ]
  },
  {
   "cell_type": "code",
   "execution_count": 10,
   "id": "16291853",
   "metadata": {},
   "outputs": [
    {
     "name": "stdout",
     "output_type": "stream",
     "text": [
      "95% Confidence Interval: Between 5.13 days and 5.67 days.\n",
      "Hypotheses:\n",
      "Null Hypothesis (H₀): The mean hospital stay is 5 days.\n",
      "Alternative Hypothesis (H₁): The mean hospital stay is not 5 days.\n",
      "Decision:\n",
      "Reject H₀: The mean hospital stay is 5 days. There is strong evidence to support that The mean hospital stay is not 5 days.\n"
     ]
    },
    {
     "data": {
      "image/png": "[encoded data removed]",
      "text/plain": [
       "<Figure size 1000x600 with 1 Axes>"
      ]
     },
     "metadata": {},
     "output_type": "display_data"
    }
   ],
   "source": [
    "# Hypotheses\n",
    "H0 = \"The mean hospital stay is 5 days.\"  # Null hypothesis\n",
    "H1 = \"The mean hospital stay is not 5 days.\"  # Alternative hypothesis\n",
    "\n",
    "# Print the confidence interval\n",
    "print(f\"95% Confidence Interval: Between {lower_limit:.2f} days and {upper_limit:.2f} days.\")\n",
    "\n",
    "# Decision-making based on the confidence interval\n",
    "if 5 < lower_limit or 5 > upper_limit:\n",
    "    decision = f\"Reject H₀: {H0} There is strong evidence to support that {H1}\"\n",
    "else:\n",
    "    decision = f\"Fail to reject H₀: {H0} The data does not provide strong evidence against H₀.\"\n",
    "\n",
    "# Print the decision\n",
    "print(\"Hypotheses:\")\n",
    "print(f\"Null Hypothesis (H₀): {H0}\")\n",
    "print(f\"Alternative Hypothesis (H₁): {H1}\")\n",
    "print(\"Decision:\")\n",
    "print(decision)\n",
    "\n",
    "# Visualization of the results\n",
    "x = np.linspace(4.5, 6.5, 400)  # Range for the x-axis (days)\n",
    "\n",
    "plt.figure(figsize=(10, 6))\n",
    "# Plot the confidence interval as a shaded area\n",
    "plt.axvspan(lower_limit, upper_limit, color='lightblue', alpha=0.5, label=\"95% Confidence Interval\")\n",
    "# Plot the sample mean\n",
    "plt.axvline(x_bar, color='green', linestyle='--', linewidth=2, label=\"Sample Mean (5.4 days)\")\n",
    "# Plot the hypothesized value (5 days)\n",
    "plt.axvline(5, color='red', linestyle='--', linewidth=2, label=\"Hypothesized Mean (5 days)\")\n",
    "\n",
    "# General aesthetics\n",
    "plt.title(\"Confidence Interval for Hospital Stay Duration\", fontsize=14)\n",
    "plt.xlabel(\"Hospital Stay Duration (days)\", fontsize=12)\n",
    "plt.ylabel(\"Density (Illustrative)\", fontsize=12)\n",
    "plt.legend(fontsize=12)\n",
    "plt.grid(True, linestyle='--', alpha=0.7)\n",
    "plt.tight_layout()\n",
    "\n",
    "# Show the plot\n",
    "plt.show()"
   ]
  },
  {
   "cell_type": "markdown",
   "id": "e48c39cc",
   "metadata": {
    "id": "e48c39cc"
   },
   "source": [
    "## <p style=\"background-color:#FDFEFE; font-family:newtimeroman; color:#4d77cf; font-size:175%; text-align:center; border-radius:10px 10px;\">Hypothesis Testing</p>"
   ]
  },
  {
   "cell_type": "markdown",
   "id": "7938a148",
   "metadata": {
    "id": "7938a148"
   },
   "source": [
    "## <p style=\"background-color:#58B8E4; font-family:newtimeroman; color:#49519E; font-size:150%; text-align:left; border-radius:10px 10px;\"> EXERCISE-3:</p>\n",
    "\n",
    "  - The hourly wages in a particular industry are normally distributed with mean $13.20 and\n",
    "standard deviation $2.50. A company in this industry employs 40 workers, paying them an average of $12.20 per hour.\n",
    "Can this company be accused of paying substandard wages? Use an α = .01 level test. (Wackerly, Ex.10.18)\n",
    "\n",
    "\n",
    "  - CHECK: statistic: -2.5298221281347035, pvalue= 0.005706018193000826\n",
    "\n"
   ]
  },
  {
   "cell_type": "markdown",
   "id": "27108709",
   "metadata": {},
   "source": [
    "## <p style=\"background-color:#FFFFFF; font-family:newtimeroman; color:#E9335A; font-size:150%; text-align:left; border-radius:10px 10px;\"> REMINDER:</p>\n",
    "\n",
    "<img src=https://i.ibb.co/G0vg8c2/significance-test-steps.png width=\"400\" height=\"200\">\n",
    "\n"
   ]
  },
  {
   "cell_type": "markdown",
   "id": "962e3116",
   "metadata": {},
   "source": [
    "#### <p style=\"background-color:#8CCED1; font-family:newtimeroman; color:#635EA7; font-size:175%; text-align:left; border-radius:10px 10px;\">First write the given variables:</p>"
   ]
  },
  {
   "cell_type": "code",
   "execution_count": 11,
   "id": "81352dd4",
   "metadata": {},
   "outputs": [],
   "source": [
    "# Given data\n",
    "population_mean = 13.20  # Population mean (μ)\n",
    "population_std = 2.50    # Population standard deviation (σ)\n",
    "sample_size = 40         # Sample size (n)\n",
    "sample_mean = 12.20      # Sample mean (x̄)\n",
    "alpha = 0.01             # Significance level (α)"
   ]
  },
  {
   "cell_type": "markdown",
   "id": "151e002d",
   "metadata": {},
   "source": [
    "#### <p style=\"background-color:#8CCED1; font-family:newtimeroman; color:#635EA7; font-size:175%; text-align:left; border-radius:10px 10px;\">1. Stating Null (H0) & Alternative (Ha) Hypotheses:</p>"
   ]
  },
  {
   "cell_type": "raw",
   "id": "ffc1f60d",
   "metadata": {},
   "source": [
    "# Null Hypothesis (H₀): The company pays wages equal to or greater than the industry standard\n",
    "   # (μ ≥ 13.20)\n",
    "\n",
    "# Alternative Hypothesis (Hₐ): The company pays substandard wages\n",
    "   # (μ < 13.20, one-tailed test)"
   ]
  },
  {
   "cell_type": "markdown",
   "id": "b234bb6e",
   "metadata": {
    "id": "2db580df"
   },
   "source": [
    "#### <p style=\"background-color:#8CCED1; font-family:newtimeroman; color:#635EA7; font-size:175%; text-align:left; border-radius:10px 10px;\">2. Calculating Test Statistics:</p>"
   ]
  },
  {
   "cell_type": "code",
   "execution_count": 12,
   "id": "2373a553",
   "metadata": {},
   "outputs": [
    {
     "name": "stdout",
     "output_type": "stream",
     "text": [
      "Test Statistic (z): -2.5298221281347035\n"
     ]
    }
   ],
   "source": [
    "# Calculate the test statistic\n",
    "import math\n",
    "\n",
    "z = (sample_mean - population_mean) / (population_std / math.sqrt(sample_size))\n",
    "print(f\"Test Statistic (z): {z:}\")"
   ]
  },
  {
   "cell_type": "markdown",
   "id": "f4df0032",
   "metadata": {},
   "source": [
    "#### <p style=\"background-color:#8CCED1; font-family:newtimeroman; color:#635EA7; font-size:175%; text-align:left; border-radius:10px 10px;\">3. Calculaing P-Value:</p>"
   ]
  },
  {
   "cell_type": "code",
   "execution_count": 13,
   "id": "9192f0bb",
   "metadata": {},
   "outputs": [
    {
     "name": "stdout",
     "output_type": "stream",
     "text": [
      "P-Value: 0.005706018193000826\n"
     ]
    }
   ],
   "source": [
    "# Calculate the p-value for the test statistic\n",
    "from scipy.stats import norm\n",
    "\n",
    "p_value = norm.cdf(z)  # CDF gives the probability for the left tail\n",
    "print(f\"P-Value: {p_value:}\")"
   ]
  },
  {
   "cell_type": "markdown",
   "id": "ee203455",
   "metadata": {},
   "source": [
    "#### <p style=\"background-color:#8CCED1; font-family:newtimeroman; color:#635EA7; font-size:175%; text-align:left; border-radius:10px 10px;\">4. Making a Decision:</p>"
   ]
  },
  {
   "cell_type": "markdown",
   "id": "15f1c72b",
   "metadata": {},
   "source": [
    "<img src=https://i.ibb.co/NCLKcFs/p-value-reject-area.png width=\"400\" height=\"200\">"
   ]
  },
  {
   "cell_type": "code",
   "execution_count": 14,
   "id": "4375364d",
   "metadata": {},
   "outputs": [
    {
     "name": "stdout",
     "output_type": "stream",
     "text": [
      "Decision:\n",
      "Reject H₀: The company can be accused of paying substandard wages.\n"
     ]
    }
   ],
   "source": [
    "# Decision based on p-value\n",
    "if p_value <= alpha:\n",
    "    decision = \"Reject H₀: The company can be accused of paying substandard wages.\"\n",
    "else:\n",
    "    decision = \"Fail to reject H₀: There is no evidence that the company is paying substandard wages.\"\n",
    "\n",
    "print(\"Decision:\")\n",
    "print(decision)"
   ]
  },
  {
   "cell_type": "code",
   "execution_count": 15,
   "id": "89007cd7",
   "metadata": {},
   "outputs": [
    {
     "data": {
      "image/png": "[encoded data removed]",
      "text/plain": [
       "<Figure size 1000x600 with 1 Axes>"
      ]
     },
     "metadata": {},
     "output_type": "display_data"
    }
   ],
   "source": [
    "# Visualization parameters\n",
    "z_critical = norm.ppf(alpha)  # Critical z-value for alpha = 0.01\n",
    "\n",
    "x = np.linspace(-4, 4, 400)  # Z-score range\n",
    "y = norm.pdf(x, 0, 1)        # Standard normal distribution\n",
    "\n",
    "plt.figure(figsize=(10, 6))\n",
    "plt.plot(x, y, label=\"Standard Normal Distribution\")\n",
    "plt.axvline(z_critical, color='red', linestyle='--', label=f\"Critical Value (z = {z_critical:.2f})\")\n",
    "plt.axvline(z, color='blue', linestyle='--', label=f\"Test Statistic (z = {z:.2f})\")\n",
    "plt.fill_between(x, 0, y, where=(x < z_critical), color='red', alpha=0.3, label=\"Rejection Region (α = 0.01)\")\n",
    "plt.title(\"Hypothesis Test for Substandard Wages\", fontsize=14)\n",
    "plt.xlabel(\"Z-Score\", fontsize=12)\n",
    "plt.ylabel(\"Probability Density\", fontsize=12)\n",
    "plt.legend(fontsize=12)\n",
    "plt.grid(True, linestyle='--', alpha=0.7)\n",
    "plt.tight_layout()\n",
    "plt.show()"
   ]
  },
  {
   "cell_type": "markdown",
   "id": "59d32671",
   "metadata": {
    "id": "59d32671"
   },
   "source": [
    "## <p style=\"background-color:#58B8E4; font-family:newtimeroman; color:#49519E; font-size:150%; text-align:left; border-radius:10px 10px;\"> EXERCISE-4:</p>\n",
    "\n",
    "+ Shear strength measurements derived from unconfined compression tests for two types of soils gave the results shown in the following document (measurements in tons per square foot). Do the soils appear to differ with respect to average shear strength, at the 1% significance level?\n",
    "\n",
    "\n",
    "+ Results for two type of soils\n",
    "\n",
    "\n",
    "+ CHECK: statistic: 5.1681473319343345, pvalue= 2.593228732352821e-06"
   ]
  },
  {
   "cell_type": "markdown",
   "id": "cbac47a0",
   "metadata": {},
   "source": [
    "#### <p style=\"background-color:#8CCED1; font-family:newtimeroman; color:#635EA7; font-size:175%; text-align:left; border-radius:10px 10px;\">First Read, Assign Dataset to a DataFrame, and Prepare it for Analysis:</p>"
   ]
  },
  {
   "cell_type": "code",
   "execution_count": 16,
   "id": "24c4e61c",
   "metadata": {
    "id": "24c4e61c",
    "outputId": "bd66bba1-7c60-4e10-81c4-cb853ee93992"
   },
   "outputs": [
    {
     "data": {
      "text/html": [
       "<div>\n",
       "<style scoped>\n",
       "    .dataframe tbody tr th:only-of-type {\n",
       "        vertical-align: middle;\n",
       "    }\n",
       "\n",
       "    .dataframe tbody tr th {\n",
       "        vertical-align: top;\n",
       "    }\n",
       "\n",
       "    .dataframe thead th {\n",
       "        text-align: right;\n",
       "    }\n",
       "</style>\n",
       "<table border=\"1\" class=\"dataframe\">\n",
       "  <thead>\n",
       "    <tr style=\"text-align: right;\">\n",
       "      <th></th>\n",
       "      <th>Soil1</th>\n",
       "      <th>Soil2</th>\n",
       "    </tr>\n",
       "  </thead>\n",
       "  <tbody>\n",
       "    <tr>\n",
       "      <th>0</th>\n",
       "      <td>1.442</td>\n",
       "      <td>1.364</td>\n",
       "    </tr>\n",
       "    <tr>\n",
       "      <th>1</th>\n",
       "      <td>1.943</td>\n",
       "      <td>1.878</td>\n",
       "    </tr>\n",
       "    <tr>\n",
       "      <th>2</th>\n",
       "      <td>1.110</td>\n",
       "      <td>1.337</td>\n",
       "    </tr>\n",
       "    <tr>\n",
       "      <th>3</th>\n",
       "      <td>1.912</td>\n",
       "      <td>1.828</td>\n",
       "    </tr>\n",
       "    <tr>\n",
       "      <th>4</th>\n",
       "      <td>1.553</td>\n",
       "      <td>1.371</td>\n",
       "    </tr>\n",
       "    <tr>\n",
       "      <th>5</th>\n",
       "      <td>1.641</td>\n",
       "      <td>1.428</td>\n",
       "    </tr>\n",
       "    <tr>\n",
       "      <th>6</th>\n",
       "      <td>1.499</td>\n",
       "      <td>1.119</td>\n",
       "    </tr>\n",
       "    <tr>\n",
       "      <th>7</th>\n",
       "      <td>1.347</td>\n",
       "      <td>1.373</td>\n",
       "    </tr>\n",
       "    <tr>\n",
       "      <th>8</th>\n",
       "      <td>1.685</td>\n",
       "      <td>1.589</td>\n",
       "    </tr>\n",
       "    <tr>\n",
       "      <th>9</th>\n",
       "      <td>1.578</td>\n",
       "      <td>1.714</td>\n",
       "    </tr>\n",
       "    <tr>\n",
       "      <th>10</th>\n",
       "      <td>1.866</td>\n",
       "      <td>1.260</td>\n",
       "    </tr>\n",
       "    <tr>\n",
       "      <th>11</th>\n",
       "      <td>1.653</td>\n",
       "      <td>1.492</td>\n",
       "    </tr>\n",
       "    <tr>\n",
       "      <th>12</th>\n",
       "      <td>1.665</td>\n",
       "      <td>1.395</td>\n",
       "    </tr>\n",
       "    <tr>\n",
       "      <th>13</th>\n",
       "      <td>1.640</td>\n",
       "      <td>1.778</td>\n",
       "    </tr>\n",
       "    <tr>\n",
       "      <th>14</th>\n",
       "      <td>1.976</td>\n",
       "      <td>1.611</td>\n",
       "    </tr>\n",
       "    <tr>\n",
       "      <th>15</th>\n",
       "      <td>1.754</td>\n",
       "      <td>1.202</td>\n",
       "    </tr>\n",
       "    <tr>\n",
       "      <th>16</th>\n",
       "      <td>1.589</td>\n",
       "      <td>1.542</td>\n",
       "    </tr>\n",
       "    <tr>\n",
       "      <th>17</th>\n",
       "      <td>1.976</td>\n",
       "      <td>1.094</td>\n",
       "    </tr>\n",
       "    <tr>\n",
       "      <th>18</th>\n",
       "      <td>1.863</td>\n",
       "      <td>1.557</td>\n",
       "    </tr>\n",
       "    <tr>\n",
       "      <th>19</th>\n",
       "      <td>1.932</td>\n",
       "      <td>1.053</td>\n",
       "    </tr>\n",
       "    <tr>\n",
       "      <th>20</th>\n",
       "      <td>1.570</td>\n",
       "      <td>1.183</td>\n",
       "    </tr>\n",
       "    <tr>\n",
       "      <th>21</th>\n",
       "      <td>1.613</td>\n",
       "      <td>1.367</td>\n",
       "    </tr>\n",
       "    <tr>\n",
       "      <th>22</th>\n",
       "      <td>2.054</td>\n",
       "      <td>1.144</td>\n",
       "    </tr>\n",
       "    <tr>\n",
       "      <th>23</th>\n",
       "      <td>1.550</td>\n",
       "      <td>1.151</td>\n",
       "    </tr>\n",
       "    <tr>\n",
       "      <th>24</th>\n",
       "      <td>1.714</td>\n",
       "      <td>1.561</td>\n",
       "    </tr>\n",
       "    <tr>\n",
       "      <th>25</th>\n",
       "      <td>1.896</td>\n",
       "      <td>1.192</td>\n",
       "    </tr>\n",
       "    <tr>\n",
       "      <th>26</th>\n",
       "      <td>1.737</td>\n",
       "      <td>1.489</td>\n",
       "    </tr>\n",
       "    <tr>\n",
       "      <th>27</th>\n",
       "      <td>1.740</td>\n",
       "      <td>1.379</td>\n",
       "    </tr>\n",
       "    <tr>\n",
       "      <th>28</th>\n",
       "      <td>1.708</td>\n",
       "      <td>1.501</td>\n",
       "    </tr>\n",
       "    <tr>\n",
       "      <th>29</th>\n",
       "      <td>1.548</td>\n",
       "      <td>1.277</td>\n",
       "    </tr>\n",
       "    <tr>\n",
       "      <th>30</th>\n",
       "      <td>NaN</td>\n",
       "      <td>1.593</td>\n",
       "    </tr>\n",
       "    <tr>\n",
       "      <th>31</th>\n",
       "      <td>NaN</td>\n",
       "      <td>1.172</td>\n",
       "    </tr>\n",
       "    <tr>\n",
       "      <th>32</th>\n",
       "      <td>NaN</td>\n",
       "      <td>1.510</td>\n",
       "    </tr>\n",
       "    <tr>\n",
       "      <th>33</th>\n",
       "      <td>NaN</td>\n",
       "      <td>1.740</td>\n",
       "    </tr>\n",
       "    <tr>\n",
       "      <th>34</th>\n",
       "      <td>NaN</td>\n",
       "      <td>1.355</td>\n",
       "    </tr>\n",
       "  </tbody>\n",
       "</table>\n",
       "</div>"
      ],
      "text/plain": [
       "    Soil1  Soil2\n",
       "0   1.442  1.364\n",
       "1   1.943  1.878\n",
       "2   1.110  1.337\n",
       "3   1.912  1.828\n",
       "4   1.553  1.371\n",
       "5   1.641  1.428\n",
       "6   1.499  1.119\n",
       "7   1.347  1.373\n",
       "8   1.685  1.589\n",
       "9   1.578  1.714\n",
       "10  1.866  1.260\n",
       "11  1.653  1.492\n",
       "12  1.665  1.395\n",
       "13  1.640  1.778\n",
       "14  1.976  1.611\n",
       "15  1.754  1.202\n",
       "16  1.589  1.542\n",
       "17  1.976  1.094\n",
       "18  1.863  1.557\n",
       "19  1.932  1.053\n",
       "20  1.570  1.183\n",
       "21  1.613  1.367\n",
       "22  2.054  1.144\n",
       "23  1.550  1.151\n",
       "24  1.714  1.561\n",
       "25  1.896  1.192\n",
       "26  1.737  1.489\n",
       "27  1.740  1.379\n",
       "28  1.708  1.501\n",
       "29  1.548  1.277\n",
       "30    NaN  1.593\n",
       "31    NaN  1.172\n",
       "32    NaN  1.510\n",
       "33    NaN  1.740\n",
       "34    NaN  1.355"
      ]
     },
     "execution_count": 16,
     "metadata": {},
     "output_type": "execute_result"
    }
   ],
   "source": [
    "df0 = pd.read_excel(\"soil.xlsx\")\n",
    "df0"
   ]
  },
  {
   "cell_type": "code",
   "execution_count": 17,
   "id": "9d213b6e",
   "metadata": {
    "id": "9d213b6e"
   },
   "outputs": [],
   "source": [
    "df = df0.dropna(axis = 0)"
   ]
  },
  {
   "cell_type": "code",
   "execution_count": 18,
   "id": "896ded3c",
   "metadata": {
    "id": "896ded3c",
    "outputId": "88cb8c45-94fb-4bc1-ee83-350fd104e1fd"
   },
   "outputs": [
    {
     "data": {
      "text/plain": [
       "0     1.442\n",
       "1     1.943\n",
       "2     1.110\n",
       "3     1.912\n",
       "4     1.553\n",
       "5     1.641\n",
       "6     1.499\n",
       "7     1.347\n",
       "8     1.685\n",
       "9     1.578\n",
       "10    1.866\n",
       "11    1.653\n",
       "12    1.665\n",
       "13    1.640\n",
       "14    1.976\n",
       "15    1.754\n",
       "16    1.589\n",
       "17    1.976\n",
       "18    1.863\n",
       "19    1.932\n",
       "20    1.570\n",
       "21    1.613\n",
       "22    2.054\n",
       "23    1.550\n",
       "24    1.714\n",
       "25    1.896\n",
       "26    1.737\n",
       "27    1.740\n",
       "28    1.708\n",
       "29    1.548\n",
       "Name: Soil1, dtype: float64"
      ]
     },
     "execution_count": 18,
     "metadata": {},
     "output_type": "execute_result"
    }
   ],
   "source": [
    "soil1 = df0[\"Soil1\"].dropna(axis=0)\n",
    "soil1"
   ]
  },
  {
   "cell_type": "code",
   "execution_count": 19,
   "id": "4edc0ad4",
   "metadata": {
    "id": "4edc0ad4",
    "outputId": "5088ac00-a95c-4734-cacb-6d1c53b48c7b"
   },
   "outputs": [
    {
     "data": {
      "text/plain": [
       "0     1.364\n",
       "1     1.878\n",
       "2     1.337\n",
       "3     1.828\n",
       "4     1.371\n",
       "5     1.428\n",
       "6     1.119\n",
       "7     1.373\n",
       "8     1.589\n",
       "9     1.714\n",
       "10    1.260\n",
       "11    1.492\n",
       "12    1.395\n",
       "13    1.778\n",
       "14    1.611\n",
       "15    1.202\n",
       "16    1.542\n",
       "17    1.094\n",
       "18    1.557\n",
       "19    1.053\n",
       "20    1.183\n",
       "21    1.367\n",
       "22    1.144\n",
       "23    1.151\n",
       "24    1.561\n",
       "25    1.192\n",
       "26    1.489\n",
       "27    1.379\n",
       "28    1.501\n",
       "29    1.277\n",
       "30    1.593\n",
       "31    1.172\n",
       "32    1.510\n",
       "33    1.740\n",
       "34    1.355\n",
       "Name: Soil2, dtype: float64"
      ]
     },
     "execution_count": 19,
     "metadata": {},
     "output_type": "execute_result"
    }
   ],
   "source": [
    "soil2 = df0[\"Soil2\"]\n",
    "soil2"
   ]
  },
  {
   "cell_type": "markdown",
   "id": "6a906f51",
   "metadata": {},
   "source": [
    "#### <p style=\"background-color:#8CCED1; font-family:newtimeroman; color:#635EA7; font-size:175%; text-align:left; border-radius:10px 10px;\">1. Stating Null (H0) & Alternative (Ha) Hypotheses:</p>"
   ]
  },
  {
   "cell_type": "raw",
   "id": "1605d72a",
   "metadata": {},
   "source": [
    "# Null Hypothesis (H₀): There is no significant difference in the mean shear strength between\n",
    "                      # the two soil types (μ1 = μ2).\n",
    "    \n",
    "# Alternative Hypothesis (Hₐ): There is a significant difference in the mean shear strength between\n",
    "                            # the two soil types (μ1 ≠ μ2)."
   ]
  },
  {
   "cell_type": "markdown",
   "id": "d50fee84",
   "metadata": {},
   "source": [
    "#### <p style=\"background-color:#8CCED1; font-family:newtimeroman; color:#635EA7; font-size:175%; text-align:left; border-radius:10px 10px;\">2. Calculating Test Statistics:</p>"
   ]
  },
  {
   "cell_type": "code",
   "execution_count": 20,
   "id": "c334dcbe",
   "metadata": {},
   "outputs": [
    {
     "name": "stdout",
     "output_type": "stream",
     "text": [
      "Test Statistic (t): 5.1681473319343345\n",
      "P-Value: 2.593228732352821e-06\n"
     ]
    }
   ],
   "source": [
    "from scipy.stats import ttest_ind\n",
    "# Perform two-sample t-test\n",
    "t_stat, p_value = ttest_ind(soil1, soil2.dropna(axis=0),  equal_var=True)\n",
    "\n",
    "# Print the results\n",
    "print(f\"Test Statistic (t): {t_stat:}\")\n",
    "print(f\"P-Value: {p_value:}\")"
   ]
  },
  {
   "cell_type": "markdown",
   "id": "c0d541a7",
   "metadata": {},
   "source": [
    "#### <p style=\"background-color:#8CCED1; font-family:newtimeroman; color:#635EA7; font-size:175%; text-align:left; border-radius:10px 10px;\">3. Calculaing P-Value:</p>"
   ]
  },
  {
   "cell_type": "code",
   "execution_count": 21,
   "id": "799daf20",
   "metadata": {},
   "outputs": [
    {
     "data": {
      "text/plain": [
       "2.593228732352821e-06"
      ]
     },
     "execution_count": 21,
     "metadata": {},
     "output_type": "execute_result"
    }
   ],
   "source": [
    "p_value"
   ]
  },
  {
   "cell_type": "markdown",
   "id": "f02baf14",
   "metadata": {},
   "source": [
    "#### <p style=\"background-color:#8CCED1; font-family:newtimeroman; color:#635EA7; font-size:175%; text-align:left; border-radius:10px 10px;\">4. Making a Decision:</p>"
   ]
  },
  {
   "cell_type": "markdown",
   "id": "0db47276",
   "metadata": {},
   "source": [
    "<img src=https://i.ibb.co/NCLKcFs/p-value-reject-area.png width=\"400\" height=\"200\">"
   ]
  },
  {
   "cell_type": "code",
   "execution_count": 24,
   "id": "1517a9b0",
   "metadata": {
    "scrolled": false
   },
   "outputs": [
    {
     "name": "stdout",
     "output_type": "stream",
     "text": [
      "Test Statistic (t): 5.1681\n",
      "P-Value: 2.5932e-06\n",
      "\n",
      "Hypotheses:\n",
      "H₀: There is no significant difference in the average shear strength of the two soils (μ1 = μ2).\n",
      "Hₐ: There is a significant difference in the average shear strength of the two soils (μ1 ≠ μ2).\n",
      "\n",
      "Decision:\n",
      "Reject H₀: The two soils differ significantly with respect to average shear strength.\n"
     ]
    },
    {
     "data": {
      "image/png": "[encoded data removed]",
      "text/plain": [
       "<Figure size 1000x600 with 1 Axes>"
      ]
     },
     "metadata": {},
     "output_type": "display_data"
    }
   ],
   "source": [
    "from scipy.stats import ttest_ind\n",
    "from scipy.stats import t\n",
    "\n",
    "# Print test statistic and p-value\n",
    "print(f\"Test Statistic (t): {t_stat:.4f}\")\n",
    "print(f\"P-Value: {p_value:.4e}\")\n",
    "\n",
    "# Significance level (α)\n",
    "alpha = 0.01\n",
    "\n",
    "# Print hypotheses\n",
    "print(\"\\nHypotheses:\")\n",
    "print(\"H₀: There is no significant difference in the average shear strength of the two soils (μ1 = μ2).\")\n",
    "print(\"Hₐ: There is a significant difference in the average shear strength of the two soils (μ1 ≠ μ2).\")\n",
    "\n",
    "# Decision-making based on p-value\n",
    "if p_value <= alpha:\n",
    "    decision = \"Reject H₀: The two soils differ significantly with respect to average shear strength.\"\n",
    "else:\n",
    "    decision = \"Fail to reject H₀: There is no significant difference in the average shear strength between the two soils.\"\n",
    "\n",
    "# Print the decision\n",
    "print(\"\\nDecision:\")\n",
    "print(decision)\n",
    "\n",
    "# Visualization: T-distribution\n",
    "df = len(soil1) + len(soil2) - 2  # Degrees of freedom\n",
    "x = np.linspace(-6, 6, 400)  # Range for the T-distribution\n",
    "y = t.pdf(x, df)  # T-distribution density\n",
    "\n",
    "# Critical t-values for a two-tailed test\n",
    "t_critical = t.ppf(1 - alpha / 2, df)\n",
    "\n",
    "plt.figure(figsize=(10, 6))\n",
    "plt.plot(x, y, label=\"T-Distribution\")\n",
    "plt.axvline(-t_critical, color='red', linestyle='--', label=f\"Critical Value (-{t_critical:.2f})\")\n",
    "plt.axvline(t_critical, color='red', linestyle='--', label=f\"Critical Value (+{t_critical:.2f})\")\n",
    "plt.axvline(t_stat, color='blue', linestyle='--', label=f\"Test Statistic (t = {t_stat:.2f})\")\n",
    "plt.fill_between(x, 0, y, where=(x <= -t_critical) | (x >= t_critical), color='red', alpha=0.3, label=\"Rejection Region\")\n",
    "plt.title(\"Two-Sample T-Test: Soil Shear Strength\", fontsize=14)\n",
    "plt.xlabel(\"t-Value\", fontsize=12)\n",
    "plt.ylabel(\"Density\", fontsize=12)\n",
    "plt.legend(fontsize=12)\n",
    "plt.grid(True, linestyle='--', alpha=0.7)\n",
    "plt.tight_layout()\n",
    "plt.show()\n"
   ]
  },
  {
   "cell_type": "markdown",
   "id": "693a345c",
   "metadata": {
    "id": "693a345c"
   },
   "source": [
    "## <p style=\"background-color:#58B8E4; font-family:newtimeroman; color:#49519E; font-size:150%; text-align:left; border-radius:10px 10px;\"> EXERCISE-5:</p>\n",
    "\n",
    "+ The following dataset is based on data provided by the World Bank\n",
    "(https://datacatalog.worldbank.org/dataset/education-statistics). World Bank Edstats.  2015 PISA Test Dataset\n",
    "\n",
    "\n",
    "+ Get descriptive statistics (the central tendency, dispersion and shape of a dataset’s distribution) for each continent\n",
    "group (AS, EU, AF, NA, SA, OC).\n",
    "\n",
    "\n",
    "+ Determine whether there is any difference (on the average) for the math scores among European (EU) and Asian (AS)\n",
    "countries (assume normality and equal variances). Draw side-by-side box plots.\n",
    "\n",
    "\n",
    "+ CHECK: statistic=0.870055317967983, pvalue=0.38826888111307345"
   ]
  },
  {
   "cell_type": "markdown",
   "id": "d0f47547",
   "metadata": {},
   "source": [
    "#### <p style=\"background-color:#8CCED1; font-family:newtimeroman; color:#635EA7; font-size:175%; text-align:left; border-radius:10px 10px;\">First Explore the Dataset:</p>\n",
    "\n",
    "Get descriptive statistics (the central tendency, dispersion and shape of a dataset’s distribution) for each continent group (AS, EU, AF, NA, SA, OC).\n",
    "\n",
    "Determine whether there is any difference (on the average) for the math scores among European (EU) and Asian (AS) countries (assume normality and equal variances). Draw side-by-side box plots."
   ]
  },
  {
   "cell_type": "code",
   "execution_count": 25,
   "id": "d900412f",
   "metadata": {},
   "outputs": [
    {
     "data": {
      "text/html": [
       "<div>\n",
       "<style scoped>\n",
       "    .dataframe tbody tr th:only-of-type {\n",
       "        vertical-align: middle;\n",
       "    }\n",
       "\n",
       "    .dataframe tbody tr th {\n",
       "        vertical-align: top;\n",
       "    }\n",
       "\n",
       "    .dataframe thead th {\n",
       "        text-align: right;\n",
       "    }\n",
       "</style>\n",
       "<table border=\"1\" class=\"dataframe\">\n",
       "  <thead>\n",
       "    <tr style=\"text-align: right;\">\n",
       "      <th></th>\n",
       "      <th>Country Code</th>\n",
       "      <th>Continent_Code</th>\n",
       "      <th>internet_users_per_100</th>\n",
       "      <th>Math</th>\n",
       "      <th>Reading</th>\n",
       "      <th>Science</th>\n",
       "    </tr>\n",
       "  </thead>\n",
       "  <tbody>\n",
       "    <tr>\n",
       "      <th>0</th>\n",
       "      <td>ALB</td>\n",
       "      <td>EU</td>\n",
       "      <td>63.252933</td>\n",
       "      <td>413.1570</td>\n",
       "      <td>405.2588</td>\n",
       "      <td>427.2250</td>\n",
       "    </tr>\n",
       "    <tr>\n",
       "      <th>1</th>\n",
       "      <td>ARE</td>\n",
       "      <td>AS</td>\n",
       "      <td>90.500000</td>\n",
       "      <td>427.4827</td>\n",
       "      <td>433.5423</td>\n",
       "      <td>436.7311</td>\n",
       "    </tr>\n",
       "    <tr>\n",
       "      <th>2</th>\n",
       "      <td>ARG</td>\n",
       "      <td>SA</td>\n",
       "      <td>68.043064</td>\n",
       "      <td>409.0333</td>\n",
       "      <td>425.3031</td>\n",
       "      <td>432.2262</td>\n",
       "    </tr>\n",
       "    <tr>\n",
       "      <th>3</th>\n",
       "      <td>AUS</td>\n",
       "      <td>OC</td>\n",
       "      <td>84.560519</td>\n",
       "      <td>493.8962</td>\n",
       "      <td>502.9006</td>\n",
       "      <td>509.9939</td>\n",
       "    </tr>\n",
       "    <tr>\n",
       "      <th>4</th>\n",
       "      <td>AUT</td>\n",
       "      <td>EU</td>\n",
       "      <td>83.940142</td>\n",
       "      <td>496.7423</td>\n",
       "      <td>484.8656</td>\n",
       "      <td>495.0375</td>\n",
       "    </tr>\n",
       "  </tbody>\n",
       "</table>\n",
       "</div>"
      ],
      "text/plain": [
       "  Country Code Continent_Code  internet_users_per_100      Math   Reading  \\\n",
       "0          ALB             EU               63.252933  413.1570  405.2588   \n",
       "1          ARE             AS               90.500000  427.4827  433.5423   \n",
       "2          ARG             SA               68.043064  409.0333  425.3031   \n",
       "3          AUS             OC               84.560519  493.8962  502.9006   \n",
       "4          AUT             EU               83.940142  496.7423  484.8656   \n",
       "\n",
       "    Science  \n",
       "0  427.2250  \n",
       "1  436.7311  \n",
       "2  432.2262  \n",
       "3  509.9939  \n",
       "4  495.0375  "
      ]
     },
     "execution_count": 25,
     "metadata": {},
     "output_type": "execute_result"
    }
   ],
   "source": [
    "df = pd.read_excel('2015 PISA Test.xlsx')\n",
    "df.head() "
   ]
  },
  {
   "cell_type": "code",
   "execution_count": 29,
   "id": "2865f506",
   "metadata": {},
   "outputs": [
    {
     "name": "stdout",
     "output_type": "stream",
     "text": [
      "<class 'pandas.core.frame.DataFrame'>\n",
      "RangeIndex: 70 entries, 0 to 69\n",
      "Data columns (total 6 columns):\n",
      " #   Column                  Non-Null Count  Dtype  \n",
      "---  ------                  --------------  -----  \n",
      " 0   Country Code            70 non-null     object \n",
      " 1   Continent_Code          65 non-null     object \n",
      " 2   internet_users_per_100  70 non-null     float64\n",
      " 3   Math                    70 non-null     float64\n",
      " 4   Reading                 70 non-null     float64\n",
      " 5   Science                 70 non-null     float64\n",
      "dtypes: float64(4), object(2)\n",
      "memory usage: 3.4+ KB\n"
     ]
    }
   ],
   "source": [
    "df.info()"
   ]
  },
  {
   "cell_type": "code",
   "execution_count": 31,
   "id": "98701d7c",
   "metadata": {},
   "outputs": [
    {
     "data": {
      "text/plain": [
       "(70, 6)"
      ]
     },
     "execution_count": 31,
     "metadata": {},
     "output_type": "execute_result"
    }
   ],
   "source": [
    "df.shape"
   ]
  },
  {
   "cell_type": "code",
   "execution_count": 26,
   "id": "4021b8ee",
   "metadata": {},
   "outputs": [
    {
     "data": {
      "text/html": [
       "<div>\n",
       "<style scoped>\n",
       "    .dataframe tbody tr th:only-of-type {\n",
       "        vertical-align: middle;\n",
       "    }\n",
       "\n",
       "    .dataframe tbody tr th {\n",
       "        vertical-align: top;\n",
       "    }\n",
       "\n",
       "    .dataframe thead th {\n",
       "        text-align: right;\n",
       "    }\n",
       "</style>\n",
       "<table border=\"1\" class=\"dataframe\">\n",
       "  <thead>\n",
       "    <tr style=\"text-align: right;\">\n",
       "      <th></th>\n",
       "      <th>count</th>\n",
       "      <th>mean</th>\n",
       "      <th>std</th>\n",
       "      <th>min</th>\n",
       "      <th>25%</th>\n",
       "      <th>50%</th>\n",
       "      <th>75%</th>\n",
       "      <th>max</th>\n",
       "    </tr>\n",
       "    <tr>\n",
       "      <th>Continent_Code</th>\n",
       "      <th></th>\n",
       "      <th></th>\n",
       "      <th></th>\n",
       "      <th></th>\n",
       "      <th></th>\n",
       "      <th></th>\n",
       "      <th></th>\n",
       "      <th></th>\n",
       "    </tr>\n",
       "  </thead>\n",
       "  <tbody>\n",
       "    <tr>\n",
       "      <th>AF</th>\n",
       "      <td>2.0</td>\n",
       "      <td>363.212100</td>\n",
       "      <td>5.099513</td>\n",
       "      <td>359.6062</td>\n",
       "      <td>361.409150</td>\n",
       "      <td>363.21210</td>\n",
       "      <td>365.015050</td>\n",
       "      <td>366.8180</td>\n",
       "    </tr>\n",
       "    <tr>\n",
       "      <th>AS</th>\n",
       "      <td>17.0</td>\n",
       "      <td>466.216647</td>\n",
       "      <td>64.356490</td>\n",
       "      <td>380.2590</td>\n",
       "      <td>403.833200</td>\n",
       "      <td>459.81600</td>\n",
       "      <td>531.296100</td>\n",
       "      <td>564.1897</td>\n",
       "    </tr>\n",
       "    <tr>\n",
       "      <th>EU</th>\n",
       "      <td>37.0</td>\n",
       "      <td>477.981449</td>\n",
       "      <td>35.150403</td>\n",
       "      <td>371.3114</td>\n",
       "      <td>464.040100</td>\n",
       "      <td>489.72870</td>\n",
       "      <td>503.722000</td>\n",
       "      <td>521.2506</td>\n",
       "    </tr>\n",
       "    <tr>\n",
       "      <th>OC</th>\n",
       "      <td>2.0</td>\n",
       "      <td>494.559750</td>\n",
       "      <td>0.938401</td>\n",
       "      <td>493.8962</td>\n",
       "      <td>494.227975</td>\n",
       "      <td>494.55975</td>\n",
       "      <td>494.891525</td>\n",
       "      <td>495.2233</td>\n",
       "    </tr>\n",
       "    <tr>\n",
       "      <th>SA</th>\n",
       "      <td>7.0</td>\n",
       "      <td>402.887700</td>\n",
       "      <td>18.128894</td>\n",
       "      <td>377.0695</td>\n",
       "      <td>388.102200</td>\n",
       "      <td>409.03330</td>\n",
       "      <td>417.617650</td>\n",
       "      <td>422.6714</td>\n",
       "    </tr>\n",
       "  </tbody>\n",
       "</table>\n",
       "</div>"
      ],
      "text/plain": [
       "                count        mean        std       min         25%        50%  \\\n",
       "Continent_Code                                                                  \n",
       "AF                2.0  363.212100   5.099513  359.6062  361.409150  363.21210   \n",
       "AS               17.0  466.216647  64.356490  380.2590  403.833200  459.81600   \n",
       "EU               37.0  477.981449  35.150403  371.3114  464.040100  489.72870   \n",
       "OC                2.0  494.559750   0.938401  493.8962  494.227975  494.55975   \n",
       "SA                7.0  402.887700  18.128894  377.0695  388.102200  409.03330   \n",
       "\n",
       "                       75%       max  \n",
       "Continent_Code                        \n",
       "AF              365.015050  366.8180  \n",
       "AS              531.296100  564.1897  \n",
       "EU              503.722000  521.2506  \n",
       "OC              494.891525  495.2233  \n",
       "SA              417.617650  422.6714  "
      ]
     },
     "execution_count": 26,
     "metadata": {},
     "output_type": "execute_result"
    }
   ],
   "source": [
    "# Calculate central tendency and dispersion statistics\n",
    "grouped_stats = df.groupby(\"Continent_Code\")[\"Math\"].describe()\n",
    "grouped_stats"
   ]
  },
  {
   "cell_type": "code",
   "execution_count": 27,
   "id": "bc874ae7",
   "metadata": {},
   "outputs": [
    {
     "data": {
      "text/plain": [
       "Continent_Code\n",
       "AF      26.005030\n",
       "AS    4141.757822\n",
       "EU    1235.550805\n",
       "OC       0.880597\n",
       "SA     328.656783\n",
       "Name: Math, dtype: float64"
      ]
     },
     "execution_count": 27,
     "metadata": {},
     "output_type": "execute_result"
    }
   ],
   "source": [
    "# Calculate variance for \"Math\" grouped by \"Continent_Code\"\n",
    "grouped_variance = df.groupby(\"Continent_Code\")[\"Math\"].var()\n",
    "grouped_variance"
   ]
  },
  {
   "cell_type": "code",
   "execution_count": 28,
   "id": "fc358146",
   "metadata": {},
   "outputs": [
    {
     "data": {
      "text/plain": [
       "Continent_Code\n",
       "AF     5.099513\n",
       "AS    64.356490\n",
       "EU    35.150403\n",
       "OC     0.938401\n",
       "SA    18.128894\n",
       "Name: Math, dtype: float64"
      ]
     },
     "execution_count": 28,
     "metadata": {},
     "output_type": "execute_result"
    }
   ],
   "source": [
    "grouped_std = df.groupby(\"Continent_Code\")[\"Math\"].std()\n",
    "grouped_std"
   ]
  },
  {
   "cell_type": "code",
   "execution_count": null,
   "id": "8bfa5590",
   "metadata": {},
   "outputs": [],
   "source": []
  },
  {
   "cell_type": "code",
   "execution_count": null,
   "id": "b2af235e",
   "metadata": {},
   "outputs": [],
   "source": []
  },
  {
   "cell_type": "code",
   "execution_count": null,
   "id": "6f16735b",
   "metadata": {},
   "outputs": [],
   "source": []
  },
  {
   "cell_type": "markdown",
   "id": "d9a5d66c",
   "metadata": {},
   "source": [
    "#### <p style=\"background-color:#8CCED1; font-family:newtimeroman; color:#635EA7; font-size:175%; text-align:left; border-radius:10px 10px;\">Exploring EU & ASIAN Countries:</p>\n",
    "\n",
    "Determine whether there is any difference (on the average) for the math scores among European (EU) and Asian (AS) countries (assume normality and equal variances). Draw side-by-side box plots. CHECK: statistic=0.870055317967983, pvalue=0.38826888111307345"
   ]
  },
  {
   "cell_type": "code",
   "execution_count": 32,
   "id": "772314c2",
   "metadata": {},
   "outputs": [
    {
     "data": {
      "text/plain": [
       "0     413.1570\n",
       "4     496.7423\n",
       "5     506.9844\n",
       "6     441.1899\n",
       "9     521.2506\n",
       "14    437.1443\n",
       "15    492.3254\n",
       "16    505.9713\n",
       "17    511.0876\n",
       "20    485.8432\n",
       "21    519.5291\n",
       "22    511.0769\n",
       "23    492.9204\n",
       "24    492.4785\n",
       "26    453.6299\n",
       "28    464.0401\n",
       "29    476.8309\n",
       "31    503.7220\n",
       "32    488.0332\n",
       "34    489.7287\n",
       "40    478.3834\n",
       "41    485.7706\n",
       "42    482.3051\n",
       "44    419.6635\n",
       "46    371.3114\n",
       "47    478.6448\n",
       "48    417.9341\n",
       "50    512.2528\n",
       "51    501.7298\n",
       "54    504.4693\n",
       "55    491.6270\n",
       "57    443.9543\n",
       "58    494.0600\n",
       "60    475.2301\n",
       "61    509.9196\n",
       "62    493.9181\n",
       "66    420.4540\n",
       "Name: Math, dtype: float64"
      ]
     },
     "execution_count": 32,
     "metadata": {},
     "output_type": "execute_result"
    }
   ],
   "source": [
    "eu_math_scores = df[df[\"Continent_Code\"] == \"EU\"][\"Math\"]\n",
    "eu_math_scores"
   ]
  },
  {
   "cell_type": "code",
   "execution_count": 33,
   "id": "1d83065a",
   "metadata": {},
   "outputs": [
    {
     "data": {
      "text/plain": [
       "1     427.4827\n",
       "11    531.2961\n",
       "25    403.8332\n",
       "27    547.9310\n",
       "30    386.1096\n",
       "33    469.6695\n",
       "35    380.2590\n",
       "36    532.4399\n",
       "37    459.8160\n",
       "38    524.1062\n",
       "39    396.2497\n",
       "43    543.8078\n",
       "49    446.1098\n",
       "56    402.4007\n",
       "59    564.1897\n",
       "63    415.4638\n",
       "69    494.5183\n",
       "Name: Math, dtype: float64"
      ]
     },
     "execution_count": 33,
     "metadata": {},
     "output_type": "execute_result"
    }
   ],
   "source": [
    "as_math_scores = df[df[\"Continent_Code\"] == \"AS\"][\"Math\"]\n",
    "as_math_scores"
   ]
  },
  {
   "cell_type": "code",
   "execution_count": null,
   "id": "e3fd837e",
   "metadata": {},
   "outputs": [],
   "source": []
  },
  {
   "cell_type": "code",
   "execution_count": null,
   "id": "2d442dcc",
   "metadata": {},
   "outputs": [],
   "source": []
  },
  {
   "cell_type": "markdown",
   "id": "e1bade48",
   "metadata": {},
   "source": [
    "#### <p style=\"background-color:#8CCED1; font-family:newtimeroman; color:#635EA7; font-size:175%; text-align:left; border-radius:10px 10px;\">1. Stating Null (H0) & Alternative (Ha) Hypotheses:</p>"
   ]
  },
  {
   "cell_type": "raw",
   "id": "11d026f3",
   "metadata": {},
   "source": [
    "# H₀: There is no difference in math scores between EU and AS (μ_EU = μ_AS).\n",
    "# Hₐ: There is a significant difference in math scores between EU and AS (μ_EU ≠ μ_AS)."
   ]
  },
  {
   "cell_type": "markdown",
   "id": "8c8950bb",
   "metadata": {},
   "source": [
    "#### <p style=\"background-color:#8CCED1; font-family:newtimeroman; color:#635EA7; font-size:175%; text-align:left; border-radius:10px 10px;\">2. Calculating Test Statistics:</p>"
   ]
  },
  {
   "cell_type": "code",
   "execution_count": 34,
   "id": "402cf1ab",
   "metadata": {},
   "outputs": [
    {
     "name": "stdout",
     "output_type": "stream",
     "text": [
      "\n",
      "Test Statistic (t): 0.8700553179679789\n"
     ]
    }
   ],
   "source": [
    "# Perform T-test assuming equal variances\n",
    "t_statistic, p_value = ttest_ind(eu_math_scores, as_math_scores, equal_var=True)\n",
    "\n",
    "# Print the results\n",
    "print(f\"\\nTest Statistic (t): {t_statistic}\")"
   ]
  },
  {
   "cell_type": "markdown",
   "id": "3bc99304",
   "metadata": {},
   "source": [
    "#### <p style=\"background-color:#8CCED1; font-family:newtimeroman; color:#635EA7; font-size:175%; text-align:left; border-radius:10px 10px;\">3. Calculaing P-Value:</p>"
   ]
  },
  {
   "cell_type": "code",
   "execution_count": 35,
   "id": "331f7ac4",
   "metadata": {},
   "outputs": [
    {
     "name": "stdout",
     "output_type": "stream",
     "text": [
      "P-Value: 0.38826888111307556\n"
     ]
    }
   ],
   "source": [
    "print(f\"P-Value: {p_value}\")"
   ]
  },
  {
   "cell_type": "markdown",
   "id": "bda5e9e0",
   "metadata": {},
   "source": [
    "#### <p style=\"background-color:#8CCED1; font-family:newtimeroman; color:#635EA7; font-size:175%; text-align:left; border-radius:10px 10px;\">4. Making a Decision:</p>"
   ]
  },
  {
   "cell_type": "markdown",
   "id": "26db0542",
   "metadata": {},
   "source": [
    "<img src=https://i.ibb.co/NCLKcFs/p-value-reject-area.png width=\"400\" height=\"200\">"
   ]
  },
  {
   "cell_type": "code",
   "execution_count": 36,
   "id": "ff4d8bcc",
   "metadata": {},
   "outputs": [
    {
     "name": "stdout",
     "output_type": "stream",
     "text": [
      "\n",
      "Hypotheses:\n",
      "H₀: No difference in math scores between EU and AS (μ_EU = μ_AS).\n",
      "Hₐ: Significant difference in math scores between EU and AS (μ_EU ≠ μ_AS).\n",
      "\n",
      "Decision:\n",
      "Fail to reject H₀: No significant difference in math scores.\n"
     ]
    }
   ],
   "source": [
    "# Significance level (alpha)\n",
    "alpha = 0.05\n",
    "\n",
    "# Print hypotheses\n",
    "print(\"\\nHypotheses:\")\n",
    "print(\"H₀: No difference in math scores between EU and AS (μ_EU = μ_AS).\")\n",
    "print(\"Hₐ: Significant difference in math scores between EU and AS (μ_EU ≠ μ_AS).\")\n",
    "\n",
    "# Decision based on p-value and alpha\n",
    "if p_value <= alpha:\n",
    "    decision = \"Reject H₀: Significant difference in math scores.\"\n",
    "else:\n",
    "    decision = \"Fail to reject H₀: No significant difference in math scores.\"\n",
    "\n",
    "# Print the decision\n",
    "print(\"\\nDecision:\")\n",
    "print(decision)"
   ]
  },
  {
   "cell_type": "markdown",
   "id": "5d471b5d",
   "metadata": {},
   "source": [
    "#### <p style=\"background-color:#8CCED1; font-family:newtimeroman; color:#635EA7; font-size:175%; text-align:left; border-radius:10px 10px;\">Visualization:</p>"
   ]
  },
  {
   "cell_type": "code",
   "execution_count": 38,
   "id": "7bca486d",
   "metadata": {},
   "outputs": [
    {
     "data": {
      "image/png": "[encoded data removed]",
      "text/plain": [
       "<Figure size 1000x600 with 1 Axes>"
      ]
     },
     "metadata": {},
     "output_type": "display_data"
    }
   ],
   "source": [
    "# Side-by-Side Box Plot for Math Scores (EU vs AS)\n",
    "plt.figure(figsize=(10, 6))\n",
    "sns.boxplot(x='Continent_Code', y='Math', data=df[df['Continent_Code'].isin(['EU', 'AS'])], palette=\"Set2\")\n",
    "plt.title(\"Math Scores Comparison: EU vs AS\", fontsize=16)\n",
    "plt.xlabel(\"Continent\", fontsize=12)\n",
    "plt.ylabel(\"Math Scores\", fontsize=12)\n",
    "plt.grid(axis='y', linestyle='--', alpha=0.7)\n",
    "plt.tight_layout()\n",
    "plt.show()\n"
   ]
  },
  {
   "cell_type": "markdown",
   "id": "0131e8ed",
   "metadata": {},
   "source": [
    "## <p style=\"background-color:#8CCED1; font-family:newtimeroman; color:#49519E; font-size:150%; text-align:center; border-radius:10px 10px;\">END OF THE ASSIGNMENT-02</p>\n",
    "\n",
    "# Now. it's time to relax!\n",
    "\n",
    "![Image_Assignment](https://i.ibb.co/QF5G0yf/reading-books-1110x600.png)\n",
    "[Image Credit](https://booksunlimited.ie/how-to-make-time-for-reading-books-in-a-busy-schedule/)\n",
    "\n",
    "<p style=\"text-align: center;\"><img src=\"https://i.ibb.co/99DQ3TY/DS-Courses.png\" class=\"img-fluid\" \n",
    "alt=\"CLRSWY_Courses\"></p>"
   ]
  },
  {
   "cell_type": "markdown",
   "id": "db41988f",
   "metadata": {
    "deletable": false,
    "editable": false
   },
   "source": [
    "<a href=\"https://ondiande.com/contact/\"><img align=\"center\" src=\"https://i.ibb.co/B43qn24/officially-licensed-logo.png\" alt=\"ONDIA Contact\" width=\"110\" height=\"200\" title=\"This notebook is licensed by ONDIA. Please contact the authorized persons about the conditions under which you can use or share.\"></a>"
   ]
  }
 ],
 "metadata": {
  "colab": {
   "provenance": []
  },
  "kernelspec": {
   "display_name": "Python 3 (ipykernel)",
   "language": "python",
   "name": "python3"
  },
  "language_info": {
   "codemirror_mode": {
    "name": "ipython",
    "version": 3
   },
   "file_extension": ".py",
   "mimetype": "text/x-python",
   "name": "python",
   "nbconvert_exporter": "python",
   "pygments_lexer": "ipython3",
   "version": "3.11.10"
  },
  "toc": {
   "base_numbering": "",
   "nav_menu": {},
   "number_sections": false,
   "sideBar": true,
   "skip_h1_title": false,
   "title_cell": "Table of Contents",
   "title_sidebar": "Contents",
   "toc_cell": false,
   "toc_position": {
    "height": "calc(100% - 180px)",
    "left": "10px",
    "top": "150px",
    "width": "307.2px"
   },
   "toc_section_display": true,
   "toc_window_display": true
  },
  "varInspector": {
   "cols": {
    "lenName": 16,
    "lenType": 16,
    "lenVar": 40
   },
   "kernels_config": {
    "python": {
     "delete_cmd_postfix": "",
     "delete_cmd_prefix": "del ",
     "library": "var_list.py",
     "varRefreshCmd": "print(var_dic_list())"
    },
    "r": {
     "delete_cmd_postfix": ") ",
     "delete_cmd_prefix": "rm(",
     "library": "var_list.r",
     "varRefreshCmd": "cat(var_dic_list()) "
    }
   },
   "types_to_exclude": [
    "module",
    "function",
    "builtin_function_or_method",
    "instance",
    "_Feature"
   ],
   "window_display": false
  }
 },
 "nbformat": 4,
 "nbformat_minor": 5
}
